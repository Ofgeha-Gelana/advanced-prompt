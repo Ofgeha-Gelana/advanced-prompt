{
 "cells": [
  {
   "cell_type": "code",
   "execution_count": 7,
   "id": "dd00f200",
   "metadata": {},
   "outputs": [
    {
     "name": "stderr",
     "output_type": "stream",
     "text": [
      "/home/ofge/advanced-prompt/adv/lib/python3.12/site-packages/tqdm/auto.py:21: TqdmWarning: IProgress not found. Please update jupyter and ipywidgets. See https://ipywidgets.readthedocs.io/en/stable/user_install.html\n",
      "  from .autonotebook import tqdm as notebook_tqdm\n"
     ]
    }
   ],
   "source": [
    "import os\n",
    "from dotenv import load_dotenv\n",
    "import google.generativeai as genai"
   ]
  },
  {
   "cell_type": "code",
   "execution_count": 8,
   "id": "0052b5df",
   "metadata": {},
   "outputs": [],
   "source": [
    "load_dotenv()\n",
    "GEMINI_API_KEY = os.getenv(\"GEMINI_API_KEY\")\n",
    "genai.configure(api_key=GEMINI_API_KEY)\n",
    "genai.configure(api_key=GEMINI_API_KEY)\n",
    "model = genai.GenerativeModel('gemini-1.5-pro')"
   ]
  },
  {
   "cell_type": "code",
   "execution_count": 1,
   "id": "63748074",
   "metadata": {},
   "outputs": [],
   "source": [
    "# Function to get model response\n",
    "def get_completion(prompt):\n",
    "    response = model.generate_content(prompt)\n",
    "    return response.text"
   ]
  },
  {
   "cell_type": "markdown",
   "id": "33e21db2",
   "metadata": {},
   "source": [
    "#### Advanced Prompting Techniques"
   ]
  },
  {
   "cell_type": "markdown",
   "id": "05292bd1",
   "metadata": {},
   "source": [
    "\n",
    "### 1. Few-Shot Learning\n",
    "##### Use Case: Customer Support Email Classification\n",
    "\n",
    "##### Classify customer support emails into categories like \"Billing,\" \"Technical Support,\" \"Account Issues,\" or \"General Inquiry.\"\n"
   ]
  },
  {
   "cell_type": "code",
   "execution_count": 8,
   "id": "811d0cda",
   "metadata": {},
   "outputs": [
    {
     "name": "stdout",
     "output_type": "stream",
     "text": [
      "Output for Few-Shot Learning:\n",
      "General Inquiry\n",
      "\n"
     ]
    }
   ],
   "source": [
    "\n",
    "\n",
    "# Few-shot learning prompt\n",
    "prompt = \"\"\"\n",
    "Classify the following customer support emails into one of the categories: Billing, Technical Support, Account Issues, General Inquiry.\n",
    "\n",
    "Example 1:  \n",
    "Email: \"I can't log in to my account. It says my password is incorrect.\"  \n",
    "Category: Account Issues  \n",
    "\n",
    "Example 2:  \n",
    "Email: \"I was charged twice for my subscription this month. Can you refund the extra charge?\"  \n",
    "Category: Billing  \n",
    "\n",
    "Example 3:  \n",
    "Email: \"The app keeps crashing when I try to open it on my phone.\"  \n",
    "Category: Technical Support  \n",
    "\n",
    "Now classify this email:  \n",
    "Email: \"I want to know more about your premium subscription plans.\"  \n",
    "Category:\n",
    "\"\"\"\n",
    "\n",
    "response = model.generate_content(prompt)\n",
    "print(\"Output for Few-Shot Learning:\")\n",
    "print(response.text)"
   ]
  },
  {
   "cell_type": "markdown",
   "id": "4c30b269",
   "metadata": {},
   "source": [
    "\n",
    "### 2. Chain-of-Thought (CoT) Prompting\n",
    "##### Use Case: Solving Math Word Problems\n",
    "\n",
    "##### Solve a multi-step math problem by breaking it down into logical steps.\n"
   ]
  },
  {
   "cell_type": "code",
   "execution_count": 10,
   "id": "1fc95749",
   "metadata": {},
   "outputs": [
    {
     "name": "stdout",
     "output_type": "stream",
     "text": [
      "Output for Chain-of-Thought Prompting:\n",
      "Your solution is perfectly correct!  The bakery generates $1800 in revenue per week.\n",
      "\n"
     ]
    }
   ],
   "source": [
    "\n",
    "# CoT prompt\n",
    "prompt = \"\"\"\n",
    "Solve the following problem step by step:  \n",
    "\n",
    "Problem: A bakery sells 120 cupcakes in a day. If each cupcake costs $2.50 and the bakery operates 6 days a week, how much revenue does the bakery generate in a week?  \n",
    "\n",
    "Step 1: Calculate daily revenue.  \n",
    "Daily revenue = Number of cupcakes per day × Cost per cupcake  \n",
    "Daily revenue = 120 × $2.50 = $300  \n",
    "\n",
    "Step 2: Calculate weekly revenue.  \n",
    "Weekly revenue = Daily revenue × Number of operating days per week  \n",
    "Weekly revenue = $300 × 6 = $1800  \n",
    "\n",
    "\"\"\"\n",
    "\n",
    "# Generate response\n",
    "response = model.generate_content(prompt)\n",
    "print(\"Output for Chain-of-Thought Prompting:\")\n",
    "print(response.text)\n"
   ]
  },
  {
   "cell_type": "markdown",
   "id": "5f3faf4f",
   "metadata": {},
   "source": [
    "\n",
    "### Zero-Shot CoT\n",
    "\n",
    "Inventory Projection"
   ]
  },
  {
   "cell_type": "code",
   "execution_count": 9,
   "id": "1e2158d1",
   "metadata": {},
   "outputs": [
    {
     "name": "stdout",
     "output_type": "stream",
     "text": [
      "1. **Start with the initial stock:** The bookstore begins with 500 books.\n",
      "\n",
      "2. **Subtract the first week's sales:** 500 - 120 = 380 books\n",
      "\n",
      "3. **Subtract the second week's sales:** 380 - 85 = 295 books\n",
      "\n",
      "4. **Add the new shipment:** 295 + 200 = 495 books\n",
      "\n",
      "5. **Subtract the third week's sales:** 495 - 60 = 435 books\n",
      "\n",
      "Therefore, the bookstore now has 435 books in stock. \n",
      "\n"
     ]
    }
   ],
   "source": [
    "prompt = \"\"\"A bookstore had 500 books in stock. It sold 120 books in the first week and 85 in the second week. Then it received a new shipment of 200 books and sold 60 more in the third week. How many books are now in stock?\n",
    "\n",
    "Let's think step by step.\"\"\"\n",
    "\n",
    "\n",
    "response = get_completion(prompt)\n",
    "print(response)"
   ]
  },
  {
   "cell_type": "markdown",
   "id": "2b1d64ec",
   "metadata": {},
   "source": [
    "### 3. Program-aided Language Model (PAL)\n",
    "##### Use Case: Writing Code to Solve a Problem"
   ]
  },
  {
   "cell_type": "code",
   "execution_count": 12,
   "id": "ae156451",
   "metadata": {},
   "outputs": [
    {
     "name": "stdout",
     "output_type": "stream",
     "text": [
      "Output for Program-aided Prompting:\n",
      "```python\n",
      "def factorial_recursive(n):\n",
      "    \"\"\"\n",
      "    Calculates the factorial of a non-negative integer using recursion.\n",
      "\n",
      "    Args:\n",
      "        n: The non-negative integer.\n",
      "\n",
      "    Returns:\n",
      "        The factorial of n.  Returns 1 if n is 0.\n",
      "        Raises ValueError if n is negative.\n",
      "    \"\"\"\n",
      "\n",
      "    if n < 0:\n",
      "        raise ValueError(\"Factorial is not defined for negative numbers.\")\n",
      "    elif n == 0:\n",
      "        return 1\n",
      "    else:\n",
      "        return n * factorial_recursive(n - 1)\n",
      "\n",
      "# Example usage\n",
      "try:\n",
      "    number = 5\n",
      "    result = factorial_recursive(number)\n",
      "    print(f\"The factorial of {number} is {result}\")\n",
      "\n",
      "    number = 0\n",
      "    result = factorial_recursive(number)\n",
      "    print(f\"The factorial of {number} is {result}\")\n",
      "\n",
      "    number = -2  # Test with a negative number\n",
      "    result = factorial_recursive(number)\n",
      "    print(f\"The factorial of {number} is {result}\") # This won't print because of the exception\n",
      "\n",
      "except ValueError as e:\n",
      "    print(e)\n",
      "\n",
      "\n",
      "```\n"
     ]
    }
   ],
   "source": [
    "prompt = \"\"\" Write a Python function to calculate the factorial of a given number using recursion.\"\"\"\n",
    "\n",
    "\n",
    "# Generate response\n",
    "response = model.generate_content(prompt)\n",
    "print(\"Output for Program-aided Prompting:\")\n",
    "print(response.text)\n"
   ]
  },
  {
   "cell_type": "markdown",
   "id": "771e42cc",
   "metadata": {},
   "source": [
    "##### Description of Output:\n",
    "The model generates a Python function to calculate the factorial of a number using recursion. The output demonstrates how PAL enables the model to write functional code for specific tasks."
   ]
  }
 ],
 "metadata": {
  "kernelspec": {
   "display_name": "adv",
   "language": "python",
   "name": "python3"
  },
  "language_info": {
   "codemirror_mode": {
    "name": "ipython",
    "version": 3
   },
   "file_extension": ".py",
   "mimetype": "text/x-python",
   "name": "python",
   "nbconvert_exporter": "python",
   "pygments_lexer": "ipython3",
   "version": "3.12.3"
  }
 },
 "nbformat": 4,
 "nbformat_minor": 5
}
