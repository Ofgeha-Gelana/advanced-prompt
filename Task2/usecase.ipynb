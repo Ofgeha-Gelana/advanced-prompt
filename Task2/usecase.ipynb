{
 "cells": [
  {
   "cell_type": "code",
   "execution_count": 7,
   "id": "dd00f200",
   "metadata": {},
   "outputs": [
    {
     "name": "stderr",
     "output_type": "stream",
     "text": [
      "/home/ofge/advanced-prompt/adv/lib/python3.12/site-packages/tqdm/auto.py:21: TqdmWarning: IProgress not found. Please update jupyter and ipywidgets. See https://ipywidgets.readthedocs.io/en/stable/user_install.html\n",
      "  from .autonotebook import tqdm as notebook_tqdm\n"
     ]
    }
   ],
   "source": [
    "import os\n",
    "from dotenv import load_dotenv\n",
    "import google.generativeai as genai"
   ]
  },
  {
   "cell_type": "code",
   "execution_count": 8,
   "id": "0052b5df",
   "metadata": {},
   "outputs": [],
   "source": [
    "load_dotenv()\n",
    "GEMINI_API_KEY = os.getenv(\"GEMINI_API_KEY\")\n",
    "genai.configure(api_key=GEMINI_API_KEY)\n",
    "genai.configure(api_key=GEMINI_API_KEY)\n",
    "model = genai.GenerativeModel('gemini-1.5-pro')"
   ]
  },
  {
   "cell_type": "code",
   "execution_count": 1,
   "id": "63748074",
   "metadata": {},
   "outputs": [],
   "source": [
    "# Function to get model response\n",
    "def get_completion(prompt):\n",
    "    response = model.generate_content(prompt)\n",
    "    return response.text"
   ]
  },
  {
   "cell_type": "markdown",
   "id": "33e21db2",
   "metadata": {},
   "source": [
    "#### Advanced Prompting Techniques"
   ]
  },
  {
   "cell_type": "markdown",
   "id": "05292bd1",
   "metadata": {},
   "source": [
    "\n",
    "### Few-Shot Learning\n",
    "##### Use Case: Customer Support Email Classification\n",
    "\n",
    "##### Classify customer support emails into categories like \"Billing,\" \"Technical Support,\" \"Account Issues,\" or \"General Inquiry.\"\n"
   ]
  },
  {
   "cell_type": "code",
   "execution_count": 8,
   "id": "811d0cda",
   "metadata": {},
   "outputs": [
    {
     "name": "stdout",
     "output_type": "stream",
     "text": [
      "Output for Few-Shot Learning:\n",
      "General Inquiry\n",
      "\n"
     ]
    }
   ],
   "source": [
    "\n",
    "\n",
    "# Few-shot learning prompt\n",
    "prompt = \"\"\"\n",
    "Classify the following customer support emails into one of the categories: Billing, Technical Support, Account Issues, General Inquiry.\n",
    "\n",
    "Example 1:  \n",
    "Email: \"I can't log in to my account. It says my password is incorrect.\"  \n",
    "Category: Account Issues  \n",
    "\n",
    "Example 2:  \n",
    "Email: \"I was charged twice for my subscription this month. Can you refund the extra charge?\"  \n",
    "Category: Billing  \n",
    "\n",
    "Example 3:  \n",
    "Email: \"The app keeps crashing when I try to open it on my phone.\"  \n",
    "Category: Technical Support  \n",
    "\n",
    "Now classify this email:  \n",
    "Email: \"I want to know more about your premium subscription plans.\"  \n",
    "Category:\n",
    "\"\"\"\n",
    "\n",
    "response = model.generate_content(prompt)\n",
    "print(\"Output for Few-Shot Learning:\")\n",
    "print(response.text)"
   ]
  },
  {
   "cell_type": "markdown",
   "id": "4c30b269",
   "metadata": {},
   "source": [
    "\n",
    "### Chain-of-Thought (CoT) Prompting\n",
    "##### Use Case: Solving Math Word Problems\n",
    "\n",
    "##### Solve a multi-step math problem by breaking it down into logical steps.\n"
   ]
  },
  {
   "cell_type": "code",
   "execution_count": 10,
   "id": "1fc95749",
   "metadata": {},
   "outputs": [
    {
     "name": "stdout",
     "output_type": "stream",
     "text": [
      "Output for Chain-of-Thought Prompting:\n",
      "Your solution is perfectly correct!  The bakery generates $1800 in revenue per week.\n",
      "\n"
     ]
    }
   ],
   "source": [
    "\n",
    "# CoT prompt\n",
    "prompt = \"\"\"\n",
    "Solve the following problem step by step:  \n",
    "\n",
    "Problem: A bakery sells 120 cupcakes in a day. If each cupcake costs $2.50 and the bakery operates 6 days a week, how much revenue does the bakery generate in a week?  \n",
    "\n",
    "Step 1: Calculate daily revenue.  \n",
    "Daily revenue = Number of cupcakes per day × Cost per cupcake  \n",
    "Daily revenue = 120 × $2.50 = $300  \n",
    "\n",
    "Step 2: Calculate weekly revenue.  \n",
    "Weekly revenue = Daily revenue × Number of operating days per week  \n",
    "Weekly revenue = $300 × 6 = $1800  \n",
    "\n",
    "\"\"\"\n",
    "\n",
    "# Generate response\n",
    "response = model.generate_content(prompt)\n",
    "print(\"Output for Chain-of-Thought Prompting:\")\n",
    "print(response.text)\n"
   ]
  },
  {
   "cell_type": "markdown",
   "id": "5f3faf4f",
   "metadata": {},
   "source": [
    "\n",
    "### Zero-Shot CoT\n",
    "\n",
    "Inventory Projection"
   ]
  },
  {
   "cell_type": "code",
   "execution_count": 9,
   "id": "1e2158d1",
   "metadata": {},
   "outputs": [
    {
     "name": "stdout",
     "output_type": "stream",
     "text": [
      "1. **Start with the initial stock:** The bookstore begins with 500 books.\n",
      "\n",
      "2. **Subtract the first week's sales:** 500 - 120 = 380 books\n",
      "\n",
      "3. **Subtract the second week's sales:** 380 - 85 = 295 books\n",
      "\n",
      "4. **Add the new shipment:** 295 + 200 = 495 books\n",
      "\n",
      "5. **Subtract the third week's sales:** 495 - 60 = 435 books\n",
      "\n",
      "Therefore, the bookstore now has 435 books in stock. \n",
      "\n"
     ]
    }
   ],
   "source": [
    "prompt = \"\"\"A bookstore had 500 books in stock. It sold 120 books in the first week and 85 in the second week. Then it received a new shipment of 200 books and sold 60 more in the third week. How many books are now in stock?\n",
    "\n",
    "Let's think step by step.\"\"\"\n",
    "\n",
    "\n",
    "response = get_completion(prompt)\n",
    "print(response)"
   ]
  },
  {
   "cell_type": "markdown",
   "id": "2b1d64ec",
   "metadata": {},
   "source": [
    "### Program-aided Language Model (PAL)\n",
    "##### Use Case: Writing Code to Solve a Problem"
   ]
  },
  {
   "cell_type": "code",
   "execution_count": 12,
   "id": "ae156451",
   "metadata": {},
   "outputs": [
    {
     "name": "stdout",
     "output_type": "stream",
     "text": [
      "Output for Program-aided Prompting:\n",
      "```python\n",
      "def factorial_recursive(n):\n",
      "    \"\"\"\n",
      "    Calculates the factorial of a non-negative integer using recursion.\n",
      "\n",
      "    Args:\n",
      "        n: The non-negative integer.\n",
      "\n",
      "    Returns:\n",
      "        The factorial of n.  Returns 1 if n is 0.\n",
      "        Raises ValueError if n is negative.\n",
      "    \"\"\"\n",
      "\n",
      "    if n < 0:\n",
      "        raise ValueError(\"Factorial is not defined for negative numbers.\")\n",
      "    elif n == 0:\n",
      "        return 1\n",
      "    else:\n",
      "        return n * factorial_recursive(n - 1)\n",
      "\n",
      "# Example usage\n",
      "try:\n",
      "    number = 5\n",
      "    result = factorial_recursive(number)\n",
      "    print(f\"The factorial of {number} is {result}\")\n",
      "\n",
      "    number = 0\n",
      "    result = factorial_recursive(number)\n",
      "    print(f\"The factorial of {number} is {result}\")\n",
      "\n",
      "    number = -2  # Test with a negative number\n",
      "    result = factorial_recursive(number)\n",
      "    print(f\"The factorial of {number} is {result}\") # This won't print because of the exception\n",
      "\n",
      "except ValueError as e:\n",
      "    print(e)\n",
      "\n",
      "\n",
      "```\n"
     ]
    }
   ],
   "source": [
    "prompt = \"\"\" Write a Python function to calculate the factorial of a given number using recursion.\"\"\"\n",
    "\n",
    "\n",
    "# Generate response\n",
    "response = model.generate_content(prompt)\n",
    "print(\"Output for Program-aided Prompting:\")\n",
    "print(response.text)\n"
   ]
  },
  {
   "cell_type": "markdown",
   "id": "771e42cc",
   "metadata": {},
   "source": [
    "##### Description of Output:\n",
    "The model generates a Python function to calculate the factorial of a number using recursion. The output demonstrates how PAL enables the model to write functional code for specific tasks."
   ]
  },
  {
   "cell_type": "markdown",
   "id": "f23e0d6f",
   "metadata": {},
   "source": [
    "###  ReAct"
   ]
  },
  {
   "cell_type": "code",
   "execution_count": 10,
   "id": "f80d1607",
   "metadata": {},
   "outputs": [
    {
     "name": "stdout",
     "output_type": "stream",
     "text": [
      "## Reasoning:\n",
      "\n",
      "1. **Key Components of a Successful Product Launch:**\n",
      "    * **Clear Value Proposition:**  Customers need to understand the problem the product solves and why it's better than existing solutions.\n",
      "    * **Target Audience Definition:**  Knowing who the product is for allows for targeted messaging and channel selection.\n",
      "    * **Compelling Marketing Strategy:**  This includes messaging, channel selection (social media, email, PR, advertising), and content strategy.\n",
      "    * **Robust Content Plan:**  High-quality content (blog posts, articles, videos, social media updates) that educates, engages, and generates excitement.\n",
      "    * **Competitive Pricing Strategy:**  A pricing model that aligns with market value, target customer budget, and business objectives.\n",
      "    * **Effective Pre-launch Buzz:**  Generating anticipation and interest before the official launch.\n",
      "    * **Smooth Launch Execution:**  Ensuring all technical and logistical aspects are in place for a seamless launch day experience.\n",
      "    * **Post-launch Analysis and Optimization:**  Monitoring key metrics and making adjustments based on performance data.\n",
      "\n",
      "2. **Potential Challenges in 4 Weeks:**\n",
      "    * **Time Constraints:**  Four weeks is a tight timeframe for a full product launch. Prioritization and efficient execution are crucial.\n",
      "    * **Resource Limitations:**  Potential limitations in budget, personnel, and tools could hinder progress.\n",
      "    * **Unexpected Issues:**  Technical glitches, content creation delays, or unforeseen market changes can disrupt the plan.\n",
      "    * **Lack of Data:**  With a new product, historical data might be limited, making accurate forecasting and decision-making challenging.\n",
      "    * **Internal Alignment:**  Ensuring all teams (marketing, sales, product development) are aligned and working towards the same goals.\n",
      "\n",
      "3. **Needed Data and Insights:**\n",
      "    * **Target Audience Research:** Demographics, psychographics, needs, and pain points.\n",
      "    * **Competitive Analysis:** Pricing, features, marketing strategies of competing products.\n",
      "    * **Market Size and Potential:**  Estimating the potential demand for the product.\n",
      "    * **Internal Cost Data:**  Understanding the cost of goods sold and operational expenses to inform pricing decisions.\n",
      "    * **Early User Feedback:**  Gathering feedback through beta testing or surveys to refine the product and marketing message.\n",
      "\n",
      "\n",
      "## Action Items:\n",
      "\n",
      "**Week 1: Foundation & Research**\n",
      "\n",
      "* **Day 1-2:**  Define target audience(s) and conduct thorough competitive analysis. Gather data on pricing, features, and marketing approaches.\n",
      "* **Day 3-4:**  Develop a clear and concise value proposition for the product.  Finalize pricing strategy based on market research and cost analysis.\n",
      "* **Day 5-7:**  Outline the overall marketing strategy, including channel selection (social media platforms, email marketing, PR outreach, paid advertising).  Start crafting core marketing messages.\n",
      "\n",
      "**Week 2: Content Creation & Pre-Launch Buzz**\n",
      "\n",
      "* **Day 8-10:**  Develop a detailed content calendar outlining blog posts, articles, social media updates, videos, and other marketing materials. Begin content creation.\n",
      "* **Day 11-12:** Set up pre-order/waiting list system on the website.  Initiate influencer outreach and begin building pre-launch buzz on social media.\n",
      "* **Day 13-14:**  Finalize website landing page and other marketing collateral. Prepare email templates for launch announcements and follow-up.\n",
      "\n",
      "**Week 3: Testing & Refinement**\n",
      "\n",
      "* **Day 15-17:** Test all marketing materials and website functionality. Gather feedback from a small group of beta testers or early adopters.\n",
      "* **Day 18-19:**  Refine marketing messages and content based on feedback.  Finalize launch day checklist and ensure all teams are aligned.\n",
      "* **Day 20-21:** Begin paid advertising campaigns (if applicable). Schedule social media posts and finalize pre-launch email sequence.\n",
      "\n",
      "**Week 4: Launch & Post-Launch Analysis**\n",
      "\n",
      "* **Day 22-24:** Monitor website traffic, social media engagement, and sales data. Address any technical issues or customer inquiries promptly.\n",
      "* **Day 25 (Launch Day):**  Execute the launch plan across all channels. Send launch announcement emails and actively engage with customers on social media.\n",
      "* **Day 26-28:**  Analyze initial launch performance and gather customer feedback. Identify areas for optimization in marketing messages, content, and pricing.\n",
      "* **Day 29-30:** Prepare a post-launch report summarizing key metrics and outlining next steps for continued growth and improvement.\n",
      "\n",
      "\n",
      "This plan provides a framework for a successful product launch in 4 weeks. Continuous monitoring, adaptation, and communication throughout the process are essential for maximizing impact and achieving desired results.  Flexibility and a problem-solving mindset are key to navigating potential challenges and staying on track within the tight timeframe.\n",
      "\n"
     ]
    }
   ],
   "source": [
    "prompt = \"\"\"\n",
    "You are an experienced project manager. You are tasked with leading the launch of a new product in 4 weeks. The company needs a detailed marketing strategy, content plan, and pricing strategy. \n",
    "\n",
    "First, reason through the problem. Then, based on your reasoning, list the steps the team should take to ensure the product launch is successful.\n",
    "\n",
    "Reason:\n",
    "1. What are the key components of a successful product launch?\n",
    "2. What challenges might arise during the 4 weeks?\n",
    "3. What data or insights are needed to make informed decisions?\n",
    "\n",
    "Now, act on your reasoning by providing a list of action items, broken down by week. Be detailed and realistic.\n",
    "\"\"\"\n",
    "\n",
    "response = get_completion(prompt)\n",
    "print(response)"
   ]
  }
 ],
 "metadata": {
  "kernelspec": {
   "display_name": "adv",
   "language": "python",
   "name": "python3"
  },
  "language_info": {
   "codemirror_mode": {
    "name": "ipython",
    "version": 3
   },
   "file_extension": ".py",
   "mimetype": "text/x-python",
   "name": "python",
   "nbconvert_exporter": "python",
   "pygments_lexer": "ipython3",
   "version": "3.12.3"
  }
 },
 "nbformat": 4,
 "nbformat_minor": 5
}
