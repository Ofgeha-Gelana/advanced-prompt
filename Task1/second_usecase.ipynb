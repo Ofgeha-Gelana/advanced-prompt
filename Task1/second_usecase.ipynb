{
 "cells": [
  {
   "cell_type": "code",
   "execution_count": 1,
   "id": "f65bd2ce",
   "metadata": {},
   "outputs": [
    {
     "name": "stderr",
     "output_type": "stream",
     "text": [
      "/home/ofge/advanced-prompt/adv/lib/python3.12/site-packages/tqdm/auto.py:21: TqdmWarning: IProgress not found. Please update jupyter and ipywidgets. See https://ipywidgets.readthedocs.io/en/stable/user_install.html\n",
      "  from .autonotebook import tqdm as notebook_tqdm\n"
     ]
    }
   ],
   "source": [
    "# Import required libraries\n",
    "import google.generativeai as genai\n",
    "import textwrap\n",
    "from IPython.display import Markdown, display\n",
    "import os\n",
    "from dotenv import load_dotenv\n",
    "import json\n",
    "\n",
    "# Load environment variables\n",
    "load_dotenv()\n",
    "\n",
    "# Configure Gemini Pro\n",
    "genai.configure(api_key=os.getenv('GOOGLE_API_KEY'))\n",
    "model = genai.GenerativeModel('gemini-1.5-pro')"
   ]
  },
  {
   "cell_type": "code",
   "execution_count": 2,
   "id": "bc71acfd",
   "metadata": {},
   "outputs": [],
   "source": [
    "# Define our prompt templates\n",
    "PROMPT_TEMPLATES = {\n",
    "    \"document_analysis\": \"\"\"\n",
    "    You are a legal document analysis assistant. Your task is to analyze the provided legal document \n",
    "    using careful, step-by-step reasoning. Follow these steps:\n",
    "\n",
    "    1. Identify the type of document (e.g., NDA, Employment Agreement, Lease)\n",
    "    2. List all major sections with brief descriptions\n",
    "    3. For each key clause:\n",
    "       a. Explain its purpose in plain language\n",
    "       b. Note any unusual or concerning language\n",
    "       c. Suggest potential implications\n",
    "    4. Highlight any red flags or areas requiring legal review\n",
    "\n",
    "    Document: {document_text}\n",
    "\n",
    "    Structure your response as follows:\n",
    "    - Document Type: [type]\n",
    "    - Sections:\n",
    "      - [section name]: [description]\n",
    "    - Key Clauses:\n",
    "      - [clause name]:\n",
    "        * Purpose: [explanation]\n",
    "        * Concerns: [if any]\n",
    "        * Implications: [analysis]\n",
    "    - Red Flags: [list of potential issues]\n",
    "    - Summary: [overall assessment]\n",
    "    \"\"\",\n",
    "    \n",
    "    \"term_explanation\": \"\"\"\n",
    "    Explain the following legal term as if to a non-lawyer, using simple analogies and examples.\n",
    "    Provide 1-2 sentences of definition and 1-2 sentences of practical implications.\n",
    "\n",
    "    Term: {term}\n",
    "\n",
    "    Examples of good explanations:\n",
    "    - \"Indemnification\": This means one party agrees to cover the costs if the other party gets sued. \n",
    "      It's like agreeing to pay your friend's parking tickets if you borrowed their car.\n",
    "    - \"Force Majeure\": This clause excuses parties when unforeseen events (like natural disasters) prevent \n",
    "      fulfilling the contract. Similar to not being penalized for missing work during a hurricane.\n",
    "    \n",
    "    Now explain the requested term in the same style:\n",
    "    \"\"\"\n",
    "}"
   ]
  },
  {
   "cell_type": "code",
   "execution_count": 3,
   "id": "ac305b75",
   "metadata": {},
   "outputs": [],
   "source": [
    "# Helper functions\n",
    "def to_markdown(text):\n",
    "    text = text.replace('•', '  *')\n",
    "    return Markdown(textwrap.indent(text, '> ', predicate=lambda _: True))\n",
    "\n",
    "def analyze_legal_document(document_text):\n",
    "    \"\"\"Main function to analyze legal documents using chain-of-thought prompting\"\"\"\n",
    "    prompt = PROMPT_TEMPLATES[\"document_analysis\"].format(document_text=document_text)\n",
    "    response = model.generate_content(prompt)\n",
    "    return response.text\n",
    "\n",
    "def explain_legal_term(term):\n",
    "    \"\"\"Explain legal terms using few-shot learning\"\"\"\n",
    "    prompt = PROMPT_TEMPLATES[\"term_explanation\"].format(term=term)\n",
    "    response = model.generate_content(prompt)\n",
    "    return response.text"
   ]
  },
  {
   "cell_type": "code",
   "execution_count": 10,
   "id": "7348d057",
   "metadata": {},
   "outputs": [],
   "source": [
    "# Sample NDA document\n",
    "sample_nda = \"\"\"\n",
    "NON-DISCLOSURE AGREEMENT\n",
    "\n",
    "This Non-Disclosure Agreement (the \"Agreement\") is made and entered into as of the date of last signature below by and between:\n",
    "1. Disclosing Party: ABC Corporation (\"Discloser\")\n",
    "2. Receiving Party: XYZ Inc. (\"Recipient\")\n",
    "\n",
    "1. Definition of Confidential Information\n",
    "For purposes of this Agreement, \"Confidential Information\" means any data or information that is proprietary to the Discloser and not generally known to the public, whether in tangible or intangible form.\n",
    "\n",
    "2. Obligations of Recipient\n",
    "Recipient agrees to maintain the Confidential Information in strictest confidence and not to disclose such information to any third parties. This obligation shall continue for a period of 5 years from the date of disclosure.\n",
    "\n",
    "3. Exclusions\n",
    "The obligations of confidentiality shall not apply to information that:\n",
    "a) was known to Recipient prior to disclosure\n",
    "b) becomes publicly available through no fault of Recipient\n",
    "c) is independently developed by Recipient\n",
    "\n",
    "4. Remedies\n",
    "The parties acknowledge that unauthorized disclosure of Confidential Information may cause irreparable harm for which monetary damages would be inadequate. Discloser shall be entitled to seek injunctive relief in addition to other legal remedies.\n",
    "\n",
    "5. Governing Law\n",
    "This Agreement shall be governed by the laws of the State of California without regard to its conflict of laws provisions.\n",
    "\n",
    "IN WITNESS WHEREOF, the parties have executed this Agreement as of the Effective Date.\n",
    "\"\"\"\n",
    "\n"
   ]
  },
  {
   "cell_type": "code",
   "execution_count": 11,
   "id": "cdc49ffe",
   "metadata": {},
   "outputs": [
    {
     "data": {
      "text/markdown": [
       "> - Document Type: Non-Disclosure Agreement (NDA)\n",
       "> \n",
       "> - Sections:\n",
       ">     - Definition of Confidential Information: Defines what is considered confidential.\n",
       ">     - Obligations of Recipient: Outlines the recipient's responsibilities regarding the confidential information.\n",
       ">     - Exclusions: Specifies situations where the confidentiality obligations do not apply.\n",
       ">     - Remedies: Details the legal recourse available to the Discloser in case of a breach.\n",
       ">     - Governing Law:  Specifies the jurisdiction governing the agreement.\n",
       "> \n",
       "> - Key Clauses:\n",
       ">     - Definition of Confidential Information:\n",
       ">         * Purpose: To clearly define the scope of information protected by the NDA.\n",
       ">         * Concerns: The definition is quite broad (\"any data or information...proprietary to the Discloser\").  It lacks specific examples and could be interpreted very widely.\n",
       ">         * Implications: The broad definition could encompass information that is not truly confidential, potentially creating unnecessary restrictions on the Recipient.\n",
       "> \n",
       ">     - Obligations of Recipient:\n",
       ">         * Purpose: To establish the Recipient's duty to protect the Confidential Information.\n",
       ">         * Concerns:  While \"strictest confidence\" is a common phrase, it lacks specific actions. How is \"strictest confidence\" measured?\n",
       ">         * Implications:  The vague wording might make it difficult to prove a breach.  The 5-year term is relatively standard but could be shorter or longer depending on the nature of the information.\n",
       "> \n",
       ">     - Exclusions:\n",
       ">         * Purpose: To carve out exceptions to the confidentiality obligations, preventing the NDA from being overly restrictive.\n",
       ">         * Concerns: The \"independently developed\" exclusion could be a source of dispute.  How is independent development proven?\n",
       ">         * Implications: This clause is essential to protect the Recipient's pre-existing knowledge and independent creations, but its effectiveness depends on clear documentation and potential witness testimony.\n",
       "> \n",
       ">     - Remedies:\n",
       ">         * Purpose: To specify the consequences of breaching the NDA and deter unauthorized disclosure.\n",
       ">         * Concerns:  Standard language, but the threat of injunctive relief can be powerful and should be taken seriously by the Recipient.\n",
       ">         * Implications: This clause strengthens the Discloser's position and gives them significant leverage in case of a breach.\n",
       "> \n",
       ">     - Governing Law:\n",
       ">         * Purpose: To determine which state's laws will interpret and enforce the agreement.\n",
       ">         * Concerns: None. California is a common choice for governing law, especially for businesses located there.\n",
       ">         * Implications:  This choice of law will determine the legal framework applied in any disputes related to the NDA.\n",
       "> \n",
       "> \n",
       "> - Red Flags:\n",
       ">     - Overly broad definition of \"Confidential Information.\"\n",
       ">     - Vague description of the Recipient's obligations (\"strictest confidence\").\n",
       ">     - Potential for disputes regarding \"independently developed\" information.\n",
       "> \n",
       "> - Summary:\n",
       "> This NDA is a relatively standard agreement, but the broad definition of \"Confidential Information\" and the vague wording regarding the Recipient's obligations create potential ambiguity. It would be advisable for both parties to clarify these points before signing.  The Recipient should consider requesting more specific examples of what constitutes Confidential Information and clearer guidance on the practical steps required to maintain \"strictest confidence.\"  The Discloser should consider refining the definition to avoid overreach and potential future disagreements.  Legal review is recommended for both parties, especially the Recipient, before signing.\n"
      ],
      "text/plain": [
       "<IPython.core.display.Markdown object>"
      ]
     },
     "metadata": {},
     "output_type": "display_data"
    }
   ],
   "source": [
    "# Analyze the document\n",
    "analysis_result = analyze_legal_document(sample_nda)\n",
    "display(to_markdown(analysis_result))"
   ]
  },
  {
   "cell_type": "code",
   "execution_count": null,
   "id": "adf00535",
   "metadata": {},
   "outputs": [
    {
     "data": {
      "text/markdown": [
       "> \"Injunctive Relief\": This is a court order that requires someone to do something or stop doing something.  Think of it like a judge telling a noisy neighbor to stop playing loud music at 3 a.m., or ordering a company to stop polluting a river.  The practical implication is that failing to comply with an injunction can lead to serious consequences, such as fines or even jail time.\n"
      ],
      "text/plain": [
       "<IPython.core.display.Markdown object>"
      ]
     },
     "metadata": {},
     "output_type": "display_data"
    }
   ],
   "source": [
    "# Test term explanation\n",
    "term = \"Injunctive relief\"\n",
    "explanation = explain_legal_term(term)\n",
    "display(to_markdown(explanation))"
   ]
  },
  {
   "cell_type": "code",
   "execution_count": 6,
   "id": "81955eb4",
   "metadata": {},
   "outputs": [
    {
     "name": "stdout",
     "output_type": "stream",
     "text": [
      "Warning: This doesn't appear to be a legal document. Analysis may be unreliable.\n"
     ]
    }
   ],
   "source": [
    "# Edge case handling examples\n",
    "def handle_edge_cases(document_text):\n",
    "    \"\"\"Handle various edge cases in document analysis\"\"\"\n",
    "    \n",
    "    # Case 1: Empty document\n",
    "    if not document_text.strip():\n",
    "        return \"Error: Empty document provided\"\n",
    "    \n",
    "    # Case 2: Non-legal document\n",
    "    prompt = f\"\"\"Determine if the following text appears to be a legal document. \n",
    "    Respond only with 'yes' or 'no':\\n\\n{document_text}\"\"\"\n",
    "    response = model.generate_content(prompt).text.lower()\n",
    "    \n",
    "    if 'no' in response:\n",
    "        return \"Warning: This doesn't appear to be a legal document. Analysis may be unreliable.\"\n",
    "    \n",
    "    # Case 3: Very long document\n",
    "    if len(document_text.split()) > 2000:\n",
    "        return \"Note: Document is very long. Consider analyzing sections separately for best results.\"\n",
    "    \n",
    "    # Case 4: Poor quality scan (many OCR errors)\n",
    "    error_threshold = 0.1  # 10% of words contain numbers/special chars\n",
    "    words = document_text.split()\n",
    "    unusual_words = [w for w in words if any(c.isdigit() or c in '@#$%^&*' for c in w)]\n",
    "    \n",
    "    if len(unusual_words)/len(words) > error_threshold:\n",
    "        return \"Warning: Document may contain scanning errors. Results may be inaccurate.\"\n",
    "    \n",
    "    return None\n",
    "\n",
    "# Test edge cases\n",
    "edge_case_result = handle_edge_cases(\"This is just some random text, not a legal document\")\n",
    "print(edge_case_result)"
   ]
  },
  {
   "cell_type": "code",
   "execution_count": 8,
   "id": "5e060b09",
   "metadata": {},
   "outputs": [],
   "source": [
    "# Test cases\n",
    "test_cases = [\n",
    "    {\n",
    "        \"name\": \"Complete NDA\",\n",
    "        \"document\": sample_nda,\n",
    "        \"expected\": [\"Non-Disclosure\", \"Confidential Information\", \"5 years\"]\n",
    "    },\n",
    "    {\n",
    "        \"name\": \"Empty Document\",\n",
    "        \"document\": \"\",\n",
    "        \"expected\": \"Error\"\n",
    "    },\n",
    "    {\n",
    "        \"name\": \"Non-Legal Text\",\n",
    "        \"document\": \"The quick brown fox jumps over the lazy dog.\",\n",
    "        \"expected\": \"Warning\"\n",
    "    }\n",
    "]"
   ]
  },
  {
   "cell_type": "code",
   "execution_count": 9,
   "id": "6fd38168",
   "metadata": {},
   "outputs": [
    {
     "name": "stdout",
     "output_type": "stream",
     "text": [
      "Test: Complete NDA\n",
      "Passed: False\n",
      "Output: - **Document Type:** Non-Disclosure Agreement (NDA)\n",
      "\n",
      "- **Sections:**\n",
      "    - **Definition of Confidential Information:** Defines what information is protected by the agreement.\n",
      "    - **Obligations of Re...\n",
      "\n",
      "Test: Empty Document\n",
      "Passed: True\n",
      "Output: Error: Empty document provided\n",
      "\n",
      "Test: Non-Legal Text\n",
      "Passed: True\n",
      "Output: Warning: This doesn't appear to be a legal document. Analysis may be unreliable.\n",
      "\n"
     ]
    }
   ],
   "source": [
    "\n",
    "\n",
    "# Evaluation function\n",
    "def evaluate_system(test_cases):\n",
    "    results = []\n",
    "    for case in test_cases:\n",
    "        edge_case_check = handle_edge_cases(case[\"document\"])\n",
    "        \n",
    "        if edge_case_check and (\"Error\" in edge_case_check or \"Warning\" in edge_case_check):\n",
    "            passed = edge_case_check.startswith(case[\"expected\"])\n",
    "            results.append({\n",
    "                \"test\": case[\"name\"],\n",
    "                \"passed\": passed,\n",
    "                \"output\": edge_case_check\n",
    "            })\n",
    "            continue\n",
    "            \n",
    "        analysis = analyze_legal_document(case[\"document\"])\n",
    "        passed = all(keyword in analysis for keyword in case[\"expected\"])\n",
    "        results.append({\n",
    "            \"test\": case[\"name\"],\n",
    "            \"passed\": passed,\n",
    "            \"output\": analysis[:200] + \"...\" if len(analysis) > 200 else analysis\n",
    "        })\n",
    "    \n",
    "    return results\n",
    "\n",
    "# Run evaluation\n",
    "evaluation_results = evaluate_system(test_cases)\n",
    "for result in evaluation_results:\n",
    "    print(f\"Test: {result['test']}\")\n",
    "    print(f\"Passed: {result['passed']}\")\n",
    "    print(f\"Output: {result['output']}\\n\")"
   ]
  }
 ],
 "metadata": {
  "kernelspec": {
   "display_name": "adv",
   "language": "python",
   "name": "python3"
  },
  "language_info": {
   "codemirror_mode": {
    "name": "ipython",
    "version": 3
   },
   "file_extension": ".py",
   "mimetype": "text/x-python",
   "name": "python",
   "nbconvert_exporter": "python",
   "pygments_lexer": "ipython3",
   "version": "3.12.3"
  }
 },
 "nbformat": 4,
 "nbformat_minor": 5
}
